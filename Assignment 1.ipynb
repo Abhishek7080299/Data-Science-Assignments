{
 "cells": [
  {
   "cell_type": "code",
   "execution_count": 1,
   "id": "c006b3e6-6ac5-41cb-99c6-0711c6a62bf8",
   "metadata": {},
   "outputs": [],
   "source": [
    "# Declare two variables, `x` and `y`, and assign them integer values. Swap the values of these variables without using any temporary variable."
   ]
  },
  {
   "cell_type": "code",
   "execution_count": 2,
   "id": "7a8c8aba-b183-4e2d-b181-a224a9f355a5",
   "metadata": {},
   "outputs": [
    {
     "name": "stdout",
     "output_type": "stream",
     "text": [
      "Value of x after swap is: 30\n",
      "Value of y after swap is: 20\n"
     ]
    }
   ],
   "source": [
    "x = 20\n",
    "y = 30\n",
    "x=x+y\n",
    "y=x-y\n",
    "x=x-y\n",
    "print(\"Value of x after swap is:\", x)\n",
    "print(\"Value of y after swap is:\", y)"
   ]
  },
  {
   "cell_type": "code",
   "execution_count": 3,
   "id": "e96ce92f-891c-4d25-bba4-22fee47f706d",
   "metadata": {},
   "outputs": [],
   "source": [
    "# Create a program that calculates the area of a rectangle. Take the length and width as inputs from the user and store them in variables. Calculate and display the area."
   ]
  },
  {
   "cell_type": "code",
   "execution_count": 4,
   "id": "6d9f366b-cfd6-4919-a1f7-e5127527480d",
   "metadata": {},
   "outputs": [
    {
     "name": "stdin",
     "output_type": "stream",
     "text": [
      "Input height of the tringle:  5\n",
      "Input base of the tringle:  7\n"
     ]
    },
    {
     "name": "stdout",
     "output_type": "stream",
     "text": [
      "Area of the tringle is: 17.5\n"
     ]
    }
   ],
   "source": [
    "h=float(input(\"Input height of the tringle: \"))\n",
    "b=float(input(\"Input base of the tringle: \"))\n",
    "area= (1/2)*h*b\n",
    "print(\"Area of the tringle is:\", area)"
   ]
  },
  {
   "cell_type": "code",
   "execution_count": 5,
   "id": "c2ab6420-c9eb-41a5-94b1-fda1a7a0f2e1",
   "metadata": {},
   "outputs": [],
   "source": [
    "#3. Write a Python program that converts temperatures from Celsius to Fahrenheit. Take the temperature in Celsius as input, store it in a variable, convert it to Fahrenheit, and display the result."
   ]
  },
  {
   "cell_type": "code",
   "execution_count": 6,
   "id": "525e44d5-b8d0-44b3-abf8-9e757085cf08",
   "metadata": {},
   "outputs": [
    {
     "name": "stdin",
     "output_type": "stream",
     "text": [
      "Please input the tempreture in celsius:  32\n"
     ]
    },
    {
     "name": "stdout",
     "output_type": "stream",
     "text": [
      "The Tempreture in Fahrenheit is:  89.6\n"
     ]
    }
   ],
   "source": [
    "c=float(input(\"Please input the tempreture in celsius: \"))\n",
    "f= c*(9/5)+32\n",
    "print(\"The Tempreture in Fahrenheit is: \",f)"
   ]
  },
  {
   "cell_type": "code",
   "execution_count": 7,
   "id": "337b6cc5-6f11-49d3-9437-1700b500538b",
   "metadata": {},
   "outputs": [],
   "source": [
    "#1. Write a Python program that takes a string as input and prints the length of the string."
   ]
  },
  {
   "cell_type": "code",
   "execution_count": 9,
   "id": "78181fff-71bb-4b91-a00a-1d12d8fa685a",
   "metadata": {},
   "outputs": [
    {
     "name": "stdin",
     "output_type": "stream",
     "text": [
      "Input any string:  Singh\n"
     ]
    },
    {
     "name": "stdout",
     "output_type": "stream",
     "text": [
      "The Lenth of given string is:  5\n"
     ]
    }
   ],
   "source": [
    "i=str(input(\"Input any string: \"))\n",
    "l=len(i)\n",
    "print(\"The Lenth of given string is: \",l)"
   ]
  },
  {
   "cell_type": "code",
   "execution_count": 1,
   "id": "740eeac3-0d43-4d0e-97a7-063ad0759df8",
   "metadata": {},
   "outputs": [],
   "source": [
    "#2. Create a program that takes a sentence from the user and counts the number of vowels (a, e, i, o, u) in the string."
   ]
  },
  {
   "cell_type": "code",
   "execution_count": 2,
   "id": "b56b2a95-52f2-4db4-bf8b-86854ca2b0fd",
   "metadata": {},
   "outputs": [
    {
     "name": "stdin",
     "output_type": "stream",
     "text": [
      "write a sentance:  I am Abhishek Singh.\n"
     ]
    },
    {
     "name": "stdout",
     "output_type": "stream",
     "text": [
      "Number of vowel in given sentence is:  6\n"
     ]
    }
   ],
   "source": [
    "string= str(input(\"write a sentance: \"))\n",
    "vowel= 0\n",
    "\n",
    "for i in string:\n",
    "    if(i=='i'or i=='I'or i=='a'or i=='A'or i=='e'or i=='E'or i=='o'or i=='O'or i=='u'or i=='U'):\n",
    "        vowel=vowel+1    \n",
    "\n",
    "print(\"Number of vowel in given sentence is: \", vowel)"
   ]
  },
  {
   "cell_type": "code",
   "execution_count": 3,
   "id": "11d901cb-1fb4-42a1-ade9-431cfbdbfe3f",
   "metadata": {},
   "outputs": [],
   "source": [
    "#3. Given a string, reverse the order of characters using string slicing and print the reversed string."
   ]
  },
  {
   "cell_type": "code",
   "execution_count": 4,
   "id": "b6a71ae5-d939-41eb-944c-711042696d3a",
   "metadata": {},
   "outputs": [
    {
     "name": "stdout",
     "output_type": "stream",
     "text": [
      "sllikswp\n"
     ]
    }
   ],
   "source": [
    "strg= \"pwskills\"[::-1]\n",
    "\n",
    "print(strg)"
   ]
  },
  {
   "cell_type": "code",
   "execution_count": 5,
   "id": "e5b88dfb-b7dd-48da-8d56-f659125b4b16",
   "metadata": {},
   "outputs": [],
   "source": [
    "#4. Write a program that takes a string as input and checks if it is a palindrome (reads the same forwards and backwards)."
   ]
  },
  {
   "cell_type": "code",
   "execution_count": 6,
   "id": "a5c572c8-81f7-434f-b1df-d50031973add",
   "metadata": {},
   "outputs": [
    {
     "name": "stdin",
     "output_type": "stream",
     "text": [
      "write a word:  Eye\n"
     ]
    },
    {
     "name": "stdout",
     "output_type": "stream",
     "text": [
      "This ia not a palindrome\n"
     ]
    }
   ],
   "source": [
    "word= str(input(\"write a word: \"))\n",
    "pan=word[::-1]\n",
    "if word==pan:\n",
    "    print('This ia a palindrome')\n",
    "else:\n",
    "    print('This ia not a palindrome')"
   ]
  },
  {
   "cell_type": "code",
   "execution_count": 7,
   "id": "4215e64e-165a-44d0-95cc-b10e0b394928",
   "metadata": {},
   "outputs": [],
   "source": [
    "#5. Create a program that takes a string as input and removes all the spaces from it. Print the modified string without spaces."
   ]
  },
  {
   "cell_type": "code",
   "execution_count": 8,
   "id": "818a36af-28dd-4527-8158-1f67f319abef",
   "metadata": {},
   "outputs": [
    {
     "name": "stdin",
     "output_type": "stream",
     "text": [
      "write a string with spaces:  P W S K L L S\n"
     ]
    },
    {
     "name": "stdout",
     "output_type": "stream",
     "text": [
      "PWSKLLS\n"
     ]
    }
   ],
   "source": [
    "string= str(input(\"write a string with spaces: \"))\n",
    "trim=string.replace(\" \", \"\")\n",
    "print(trim)"
   ]
  }
 ],
 "metadata": {
  "kernelspec": {
   "display_name": "Python 3 (ipykernel)",
   "language": "python",
   "name": "python3"
  },
  "language_info": {
   "codemirror_mode": {
    "name": "ipython",
    "version": 3
   },
   "file_extension": ".py",
   "mimetype": "text/x-python",
   "name": "python",
   "nbconvert_exporter": "python",
   "pygments_lexer": "ipython3",
   "version": "3.10.8"
  }
 },
 "nbformat": 4,
 "nbformat_minor": 5
}
